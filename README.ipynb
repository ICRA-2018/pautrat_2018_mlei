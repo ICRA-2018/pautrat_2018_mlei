{
 "cells": [
  {
   "cell_type": "markdown",
   "metadata": {},
   "source": [
    "# Bayesian Optimization with Automatic Prior Selection for Data-Efficient Direct Policy Search\n",
    "\n",
    "#### Meta-repo for code implementing the MLEI acquisition function\n",
    "\n",
    "Paper: \"Bayesian Optimization with Automatic Prior Selection for Data-Efficient Direct Policy Search\", submitted to the International Conference on Robotics and Automation (ICRA) 2018.\n",
    "\n",
    "Authors: Rémi Pautrat, Konstantinos Chatzilygeroudis, and Jean-Baptiste Mouret.\n",
    "\n",
    "\n",
    "## How to use it\n",
    "\n",
    "#### How to properly clone this repo"
   ]
  },
  {
   "cell_type": "code",
   "execution_count": null,
   "metadata": {},
   "outputs": [],
   "source": [
    "git clone --recursive https://github.com/resibots/pautrat_2018_mlei.git"
   ]
  },
  {
   "cell_type": "markdown",
   "metadata": {},
   "source": [
    "#### Dependencies\n",
    "\n",
    "- [Boost]: C++ Template Libraries\n",
    "- [Eigen]: Linear Algebra C++ Library\n",
    "- [realpath]: `sudo apt-get install realpath`\n",
    "\n",
    "\n",
    "#### How to easily compile everything\n",
    "\n",
    "**Important:** Make sure you have installed all the dependencies of each repo. Otherwise the build will fail.\n",
    "\n",
    "From the root of this repo run:"
   ]
  },
  {
   "cell_type": "code",
   "execution_count": null,
   "metadata": {},
   "outputs": [],
   "source": [
    "sh compile_all.sh"
   ]
  },
  {
   "cell_type": "markdown",
   "metadata": {},
   "source": [
    "**Note:** You have to set the two environment variables `RESIBOTS_DIR` and `LD_LIBRARY_PATH` before each use of this code, so you may want to add the two `export` commands to your .bashrc file:"
   ]
  },
  {
   "cell_type": "code",
   "execution_count": null,
   "metadata": {},
   "outputs": [],
   "source": [
    "export RESIBOTS_DIR=[PATH_OF_YOUR_ROOT_DIRECTORY]/install"
   ]
  },
  {
   "cell_type": "code",
   "execution_count": null,
   "metadata": {},
   "outputs": [],
   "source": [
    "export LD_LIBRARY_PATH=$LD_LIBRARY_PATH:[PATH_OF_YOUR_ROOT_DIRECTORY]/install/dart_path/lib"
   ]
  },
  {
   "cell_type": "markdown",
   "metadata": {},
   "source": [
    "#### How to run MAP-Elites experiments to generate priors"
   ]
  },
  {
   "cell_type": "code",
   "execution_count": null,
   "metadata": {},
   "outputs": [],
   "source": [
    "cd sferes2/build/exp/map_elites_hexapod/\n",
    "./hexa_duty"
   ]
  },
  {
   "cell_type": "markdown",
   "metadata": {},
   "source": [
    "The best results were obtained with a 6D descriptor, the body orientation, but other descriptors are available in hexapod_simu/hexapod_dart/include/hexapod_dart/descriptors.hpp.\n",
    "\n",
    "\n",
    "#### How to use Bayesian optimization with selection of priors in a limbo experiment"
   ]
  },
  {
   "cell_type": "code",
   "execution_count": null,
   "metadata": {},
   "outputs": [],
   "source": [
    "cd limbo/build/exp/bo_mlei\n",
    "./bo_mlei_flat_ground [directory_containing_your_priors] [options]"
   ]
  },
  {
   "cell_type": "markdown",
   "metadata": {},
   "source": [
    "bo_mlei_flat_ground launches the simulation on flat ground, but you can use the other environments as well with bo_mlei_easy_stairs, bo_mlei_medium_stairs and bo_mlei_hard_stairs. Use bo_mlei_robot to use it on a real robot.\n",
    "\n",
    "Several options are available:\n",
    "- `-l`: id of the leg you want to remove (-1: no broken leg, 0 and 5: left and right rear legs, 1 and 4: left and right middle legs, 2 and 3: left and right front legs) (default: -1).\n",
    "- `-s`: method used of prior selection (0: random, 1: constant prior, 2: MLEI, default: MLEI).\n",
    "- `-t` : number of types of different priors that you use (default: 4, e.g. for flat ground, easy stairs, medium stairs and hard stairs priors).\n",
    "- `-p` : number of priors used for each type of prior (default: 15).\n",
    "- `-n` : number of iterations for Bayesian optimization (default: 10).\n",
    "- `-c` : controller of the robot given by its 54 parameters (only for replaying one gait, there is no learning here).\n",
    "\n",
    "\n",
    "#### How to easily clean everything\n",
    "\n",
    "From the root of this repo run:"
   ]
  },
  {
   "cell_type": "code",
   "execution_count": null,
   "metadata": {},
   "outputs": [],
   "source": [
    "sh clear_all.sh"
   ]
  },
  {
   "cell_type": "markdown",
   "metadata": {},
   "source": [
    "## LICENSE\n",
    "\n",
    "[CeCILL]\n",
    "\n",
    "[CeCILL]: http://www.cecill.info/index.en.html\n",
    "[Boost]: http://www.boost.org\n",
    "[Eigen]: http://eigen.tuxfamily.org/\n",
    "[DART]: https://dartsim.github.io/\n",
    "[realpath]: http://manpages.ubuntu.com/manpages/jaunty/man1/realpath.1.html"
   ]
  }
 ],

 "metadata": {
  "kernelspec": {
   "display_name": "Bash",
   "language": "bash",
   "name": "bash"
  },
  "language_info": {
   "codemirror_mode": "shell",
   "file_extension": ".sh",
   "mimetype": "text/x-sh",
   "name": "bash"
  }
 },
 "nbformat": 4,
 "nbformat_minor": 2
}
